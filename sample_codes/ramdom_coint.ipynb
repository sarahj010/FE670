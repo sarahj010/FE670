{
 "cells": [
  {
   "cell_type": "code",
   "execution_count": 56,
   "metadata": {},
   "outputs": [],
   "source": [
    "import numpy as np\n",
    "import pandas as pd\n",
    "import statsmodels.api as sm\n",
    "import statsmodels.tsa.stattools as ts\n",
    "import matplotlib.pyplot as plt"
   ]
  },
  {
   "cell_type": "code",
   "execution_count": 21,
   "metadata": {},
   "outputs": [],
   "source": [
    "mu = 1\n",
    "sigma = 0.07\n",
    "model = []"
   ]
  },
  {
   "cell_type": "code",
   "execution_count": 22,
   "metadata": {},
   "outputs": [],
   "source": [
    "new_price = 1.0\n",
    "for n_stocks in range(1, 100):\n",
    "    path = []\n",
    "    for time in range(1, 252):\n",
    "        new_price = new_price*(mu + sigma*np.random.normal(0,1))\n",
    "        path.append(new_price)\n",
    "    model.append(path)"
   ]
  },
  {
   "cell_type": "code",
   "execution_count": 27,
   "metadata": {},
   "outputs": [
    {
     "data": {
      "text/plain": [
       "251"
      ]
     },
     "execution_count": 27,
     "metadata": {},
     "output_type": "execute_result"
    }
   ],
   "source": [
    "len(model[1])"
   ]
  },
  {
   "cell_type": "code",
   "execution_count": 29,
   "metadata": {},
   "outputs": [
    {
     "data": {
      "text/plain": [
       "251"
      ]
     },
     "execution_count": 29,
     "metadata": {},
     "output_type": "execute_result"
    }
   ],
   "source": [
    "len(model[2])"
   ]
  },
  {
   "cell_type": "code",
   "execution_count": 59,
   "metadata": {},
   "outputs": [],
   "source": [
    "result=ts.coint(model[1], model[2])"
   ]
  },
  {
   "cell_type": "code",
   "execution_count": 60,
   "metadata": {},
   "outputs": [
    {
     "data": {
      "text/plain": [
       "(-3.4504653410014403,\n",
       " 0.03704648058052148,\n",
       " array([-3.94078403, -3.36067957, -3.06145832]))"
      ]
     },
     "execution_count": 60,
     "metadata": {},
     "output_type": "execute_result"
    }
   ],
   "source": [
    "# The Null hypothesis is that there is no cointegration, the alternative hypothesis is that \n",
    "# there is cointegrating relationship. If the pvalue is small, below a critical size, \n",
    "# then we can reject the hypothesis that there is no cointegrating relationship.\n",
    "result"
   ]
  },
  {
   "cell_type": "code",
   "execution_count": 58,
   "metadata": {},
   "outputs": [
    {
     "name": "stdout",
     "output_type": "stream",
     "text": [
      "There is a cointegration!\n",
      "Not cointegrated!\n",
      "Not cointegrated!\n",
      "Not cointegrated!\n",
      "Not cointegrated!\n",
      "Not cointegrated!\n",
      "Not cointegrated!\n",
      "Not cointegrated!\n",
      "Not cointegrated!\n",
      "There is a cointegration!\n",
      "Not cointegrated!\n",
      "Not cointegrated!\n",
      "There is a cointegration!\n",
      "Not cointegrated!\n",
      "Not cointegrated!\n",
      "Not cointegrated!\n",
      "Not cointegrated!\n",
      "Not cointegrated!\n",
      "Not cointegrated!\n",
      "Not cointegrated!\n",
      "Not cointegrated!\n",
      "Not cointegrated!\n",
      "Not cointegrated!\n",
      "Not cointegrated!\n",
      "Not cointegrated!\n",
      "Not cointegrated!\n",
      "Not cointegrated!\n",
      "Not cointegrated!\n",
      "There is a cointegration!\n",
      "Not cointegrated!\n",
      "Not cointegrated!\n",
      "Not cointegrated!\n",
      "Not cointegrated!\n",
      "Not cointegrated!\n",
      "Not cointegrated!\n",
      "Not cointegrated!\n",
      "Not cointegrated!\n",
      "Not cointegrated!\n",
      "Not cointegrated!\n",
      "Not cointegrated!\n",
      "Not cointegrated!\n",
      "Not cointegrated!\n",
      "Not cointegrated!\n",
      "Not cointegrated!\n",
      "Not cointegrated!\n",
      "There is a cointegration!\n",
      "Not cointegrated!\n",
      "Not cointegrated!\n",
      "There is a cointegration!\n",
      "Not cointegrated!\n",
      "Not cointegrated!\n",
      "Not cointegrated!\n",
      "There is a cointegration!\n",
      "Not cointegrated!\n",
      "Not cointegrated!\n",
      "Not cointegrated!\n",
      "Not cointegrated!\n",
      "Not cointegrated!\n",
      "Not cointegrated!\n",
      "Not cointegrated!\n",
      "Not cointegrated!\n",
      "Not cointegrated!\n",
      "Not cointegrated!\n",
      "Not cointegrated!\n",
      "Not cointegrated!\n",
      "Not cointegrated!\n",
      "Not cointegrated!\n",
      "Not cointegrated!\n",
      "There is a cointegration!\n",
      "Not cointegrated!\n",
      "Not cointegrated!\n",
      "Not cointegrated!\n",
      "Not cointegrated!\n",
      "Not cointegrated!\n",
      "Not cointegrated!\n",
      "Not cointegrated!\n",
      "There is a cointegration!\n",
      "Not cointegrated!\n",
      "Not cointegrated!\n",
      "Not cointegrated!\n",
      "Not cointegrated!\n",
      "Not cointegrated!\n",
      "Not cointegrated!\n",
      "Not cointegrated!\n",
      "Not cointegrated!\n",
      "Not cointegrated!\n",
      "There is a cointegration!\n",
      "Not cointegrated!\n",
      "Not cointegrated!\n",
      "Not cointegrated!\n",
      "Not cointegrated!\n",
      "Not cointegrated!\n",
      "Not cointegrated!\n",
      "Not cointegrated!\n",
      "Not cointegrated!\n",
      "Not cointegrated!\n",
      "Not cointegrated!\n"
     ]
    }
   ],
   "source": [
    "for i in range(1, n-1):\n",
    "    result = ts.coint(model[i], model[i+1])\n",
    "    if result[1] <= 0.05:\n",
    "        print(\"There is a cointegration!\")\n",
    "    else:\n",
    "        print(\"Not cointegrated!\")"
   ]
  },
  {
   "cell_type": "code",
   "execution_count": null,
   "metadata": {},
   "outputs": [],
   "source": []
  },
  {
   "cell_type": "code",
   "execution_count": null,
   "metadata": {},
   "outputs": [],
   "source": []
  }
 ],
 "metadata": {
  "kernelspec": {
   "display_name": "Python 3",
   "language": "python",
   "name": "python3"
  },
  "language_info": {
   "codemirror_mode": {
    "name": "ipython",
    "version": 3
   },
   "file_extension": ".py",
   "mimetype": "text/x-python",
   "name": "python",
   "nbconvert_exporter": "python",
   "pygments_lexer": "ipython3",
   "version": "3.7.1"
  }
 },
 "nbformat": 4,
 "nbformat_minor": 2
}
